{
  "cells": [
    {
      "cell_type": "markdown",
      "source": [
        "Провести дисперсионный анализ для определения того, есть ли различия среднего роста среди взрослых футболистов, хоккеистов и штангистов.\n",
        "Даны значения роста в трех группах случайно выбранных спортсменов:\n",
        "\n",
        "Футболисты: 173, 175, 180, 178, 177, 185, 183, 182.\n",
        "\n",
        "Хоккеисты: 177, 179, 180, 188, 177, 172, 171, 184, 180.\n",
        "\n",
        "Штангисты: 172, 173, 169, 177, 166, 180, 178, 177, 172, 166, 170.\n",
        "\n",
        "Нулевая гипотеза: средние значения роста равны во всех группах, то есть спорт не влияет на рост спортсмена.\n",
        "\n",
        "Альтернативная гипотеза: средний рост спортсмена зависит от вида спорта."
      ],
      "metadata": {
        "id": "Tq9aecRBobHd"
      }
    },
    {
      "cell_type": "code",
      "source": [
        "import numpy as np\n",
        "from scipy import stats\n",
        "\n",
        "a = np.array([173, 175, 180, 178, 177, 185, 183, 182])\n",
        "b = np.array([177, 179, 180, 188, 177, 172, 171, 184, 180])\n",
        "c = np.array([172, 173, 169, 177, 166, 180, 178, 177, 172, 166, 170])\n",
        "\n",
        "f = stats.f_oneway(a, b, c)\n",
        "print(f)"
      ],
      "metadata": {
        "id": "7QMiTnDepbm6",
        "outputId": "b7cf1bd0-f827-41a8-a2d8-48ba6fd6df41",
        "colab": {
          "base_uri": "https://localhost:8080/"
        }
      },
      "execution_count": 9,
      "outputs": [
        {
          "output_type": "stream",
          "name": "stdout",
          "text": [
            "F_onewayResult(statistic=5.500053450812596, pvalue=0.010482206918698694)\n"
          ]
        }
      ]
    },
    {
      "cell_type": "markdown",
      "source": [
        "Так как pvalue < a (альфа) = 0.05, следовательно, верна альтернативная гипотеза."
      ],
      "metadata": {
        "id": "ahk0zB70rxt-"
      }
    }
  ],
  "metadata": {
    "colab": {
      "name": "Добро пожаловать в Colaboratory!",
      "toc_visible": true,
      "provenance": []
    },
    "kernelspec": {
      "display_name": "Python 3",
      "name": "python3"
    }
  },
  "nbformat": 4,
  "nbformat_minor": 0
}
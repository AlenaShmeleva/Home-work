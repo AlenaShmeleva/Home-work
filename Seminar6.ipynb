{
  "cells": [
    {
      "cell_type": "markdown",
      "source": [
        "1. Известно, что генеральная совокупность распределена нормально со средним квадратическим отклонением, равным 16.\n",
        "Найти доверительный интервал для оценки математического ожидания a с надежностью 0.95, если выборочная средняя M = 80, а объем выборки n = 256."
      ],
      "metadata": {
        "id": "d5ajja5s8k2N"
      }
    },
    {
      "cell_type": "code",
      "source": [
        "from math import sqrt\n",
        "sigma = 16\n",
        "M = 80\n",
        "n = 256\n",
        "Z = 1.96\n",
        "x1 = M - Z * sigma / sqrt(n)\n",
        "x2 = M + Z * sigma / sqrt(n)\n",
        "print(\"[\",x1, \";\",x2, \"]\")"
      ],
      "metadata": {
        "id": "SGF0R5Q38mtx",
        "outputId": "8e5d2388-ea37-4c83-d7b1-e33d92575b34",
        "colab": {
          "base_uri": "https://localhost:8080/"
        }
      },
      "execution_count": 3,
      "outputs": [
        {
          "output_type": "stream",
          "name": "stdout",
          "text": [
            "[ 78.04 ; 81.96 ]\n"
          ]
        }
      ]
    },
    {
      "cell_type": "markdown",
      "source": [
        "2. В результате 10 независимых измерений некоторой величины X, выполненных с одинаковой точностью, получены опытные данные: 6.9, 6.1, 6.2, 6.8, 7.5, 6.3, 6.4, 6.9, 6.7, 6.1\n",
        "\n",
        "Предполагая, что результаты измерений подчинены нормальному закону распределения вероятностей, оценить истинное значение величины X при помощи доверительного интервала, покрывающего это значение с доверительной вероятностью 0,95."
      ],
      "metadata": {
        "id": "87LULd4t8nSK"
      }
    },
    {
      "cell_type": "code",
      "source": [
        "import numpy as np\n",
        "from scipy import stats\n",
        "x = np.array([6.9, 6.1, 6.2, 6.8, 7.5, 6.3, 6.4, 6.9, 6.7, 6.1])\n",
        "M = np.mean(x)\n",
        "sigma = np.std(x, ddof = 1)\n",
        "n = len(x)\n",
        "t = stats.t.ppf(0.975, 9)\n",
        "x1 = M - t * sigma / sqrt(n)\n",
        "x2 = M + t * sigma / sqrt(n)\n",
        "print(\"t = \", t)\n",
        "print(\"M = \", M)\n",
        "print(\"[\",x1, \";\",x2, \"]\")"
      ],
      "metadata": {
        "id": "MUm9iSoc8uHu",
        "outputId": "0b95bcc7-2471-4bbd-d1bb-52faf7e07e14",
        "colab": {
          "base_uri": "https://localhost:8080/"
        }
      },
      "execution_count": 5,
      "outputs": [
        {
          "output_type": "stream",
          "name": "stdout",
          "text": [
            "t =  2.2621571627409915\n",
            "M =  6.590000000000001\n",
            "[ 6.267515851415713 ; 6.912484148584288 ]\n"
          ]
        }
      ]
    },
    {
      "cell_type": "markdown",
      "source": [
        "3. Рост дочерей 175, 167, 154, 174, 178, 148, 160, 167, 169, 170\n",
        "\n",
        "Рост матерей  178, 165, 165, 173, 168, 155, 160, 164, 178, 175\n",
        "\n",
        "Используя эти данные построить 95% доверительный интервал для разности среднего роста родителей и детей."
      ],
      "metadata": {
        "id": "ITdwLT7m8uap"
      }
    },
    {
      "cell_type": "code",
      "source": [
        "import numpy as np\n",
        "from scipy import stats\n",
        "a = np.array([175, 167, 154, 174, 178, 148, 160, 167, 169, 170])\n",
        "M1 = np.mean(a)\n",
        "D1 = np.var(a, ddof = 1)\n",
        "b = np.array([178, 165, 165, 173, 168, 155, 160, 164, 178, 175])\n",
        "M2 = np.mean(b)\n",
        "D2 = np.var(b, ddof = 1)\n",
        "delta = abs(M1 - M2)\n",
        "D = (D1 + D2)/2\n",
        "n = len(a)\n",
        "SE = sqrt(2 * D / n)\n",
        "t = stats.t.ppf(0.975, 18)\n",
        "x1 = delta - t * SE\n",
        "x2 = delta + t * SE\n",
        "print(\"t = \", t)\n",
        "print(\"M1 = \", M1)\n",
        "print(\"M2 = \", M2)\n",
        "print(\"SE = \", SE)\n",
        "print(\"delta = \", delta)\n",
        "print(\"[\",x1, \";\",x2, \"]\")"
      ],
      "metadata": {
        "id": "D0dthjzUD2a_",
        "outputId": "9bfb83a3-f30b-4f34-c635-fbb9687654d3",
        "colab": {
          "base_uri": "https://localhost:8080/"
        }
      },
      "execution_count": 11,
      "outputs": [
        {
          "output_type": "stream",
          "name": "stdout",
          "text": [
            "t =  2.10092204024096\n",
            "M1 =  166.2\n",
            "M2 =  168.1\n",
            "SE =  3.8880157750022915\n",
            "delta =  1.9000000000000057\n",
            "[ -6.268418034506846 ; 10.068418034506857 ]\n"
          ]
        }
      ]
    }
  ],
  "metadata": {
    "colab": {
      "name": "Добро пожаловать в Colaboratory!",
      "toc_visible": true,
      "provenance": []
    },
    "kernelspec": {
      "display_name": "Python 3",
      "name": "python3"
    }
  },
  "nbformat": 4,
  "nbformat_minor": 0
}
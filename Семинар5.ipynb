{
  "cells": [
    {
      "cell_type": "markdown",
      "source": [
        "1. Случайная непрерывная величина A имеет равномерное распределение на промежутке (200, 800].\n",
        "Найдите ее среднее значение и дисперсию."
      ],
      "metadata": {
        "id": "9rpttyX3GyFx"
      }
    },
    {
      "cell_type": "code",
      "source": [
        "a = 201\n",
        "b = 800\n",
        "Dx= (b-a)**2/12\n",
        "print('Dx = ', Dx)\n",
        "Mx = (a+b)/2\n",
        "print('Mx = ', Mx)"
      ],
      "metadata": {
        "colab": {
          "base_uri": "https://localhost:8080/"
        },
        "id": "dNEniaUMGew1",
        "outputId": "5c6d021d-07f0-4c2a-bd0d-ae492bb1d0d3"
      },
      "execution_count": 4,
      "outputs": [
        {
          "output_type": "stream",
          "name": "stdout",
          "text": [
            "Dx =  29900.083333333332\n",
            "Mx =  500.5\n"
          ]
        }
      ]
    },
    {
      "cell_type": "markdown",
      "source": [
        "2. О случайной непрерывной равномерно распределенной величине B известно, что ее дисперсия равна 0.2.\n",
        "Можно ли найти правую границу величины B и ее среднее значение зная, что левая граница равна 0.5?\n",
        "Если да, найдите ее."
      ],
      "metadata": {
        "id": "bKmcPBngJJ8E"
      }
    },
    {
      "cell_type": "code",
      "source": [
        "from math import sqrt\n",
        "Dx = 0.2\n",
        "a = 0.5\n",
        "b = sqrt(12 * Dx) + a\n",
        "Mx = (a+b)/2\n",
        "print('Mx = ', Mx)\n",
        "print('b = ', b)"
      ],
      "metadata": {
        "colab": {
          "base_uri": "https://localhost:8080/"
        },
        "id": "Ax3eV1WKJOrE",
        "outputId": "6aa2c1f8-abd9-42c3-96da-4c8aaf2d370c"
      },
      "execution_count": 5,
      "outputs": [
        {
          "output_type": "stream",
          "name": "stdout",
          "text": [
            "Mx =  1.2745966692414834\n",
            "b =  2.049193338482967\n"
          ]
        }
      ]
    },
    {
      "cell_type": "markdown",
      "source": [
        "3. Непрерывная случайная величина X распределена нормально и задана плотностью распределения\n",
        "f(x) = (1 / (4 * sqrt(2pi))) * exp((-(x+2)**2) / 32)\n",
        "\n",
        "Найдите:\n",
        "\n",
        "а). M(X)\n",
        "\n",
        "б). D(X)\n",
        "\n",
        "в). std(X) (среднее квадратичное отклонение)"
      ],
      "metadata": {
        "id": "zfH-tfEkKI1z"
      }
    },
    {
      "cell_type": "code",
      "source": [
        "f(x) = (1 / (4 * sqrt(2pi))) * exp((-(x+2)**2) / 32)\n",
        "a) Mx = -2\n",
        "b) Dx = 4\n",
        "c) sdx(x) = 2"
      ],
      "metadata": {
        "id": "Hh0NToFBKMtj"
      },
      "execution_count": null,
      "outputs": []
    },
    {
      "cell_type": "markdown",
      "source": [
        "4. Рост взрослого населения города X имеет нормальное распределение.\n",
        "Причем, средний рост равен 174 см, а среднее квадратичное отклонение равно 8 см.\n",
        "\n",
        "Какова вероятность того, что случайным образом выбранный взрослый человек имеет рост:\n",
        "\n",
        "а). больше 182 см  Ответ: **3,0%**\n",
        "\n",
        "б). больше 190 см Ответ: **0,67%**\n",
        "\n",
        "в). от 166 см до 190 см Ответ: **0,67%**\n",
        "\n",
        "г). от 166 см до 182 см Ответ: **0,0%**\n",
        "\n",
        "д). от 158 см до 190 см Ответ: **0,0%**\n",
        "\n",
        "е). не выше 150 см или не ниже 190 см Ответ: **0,6%**\n",
        "\n",
        "ё). не выше 150 см или не ниже 198 см Ответ: **0,0%**\n",
        "\n",
        "ж). ниже 166 см. Ответ: **3,0%**"
      ],
      "metadata": {
        "id": "uFFo-qNDL9YS"
      }
    },
    {
      "cell_type": "code",
      "source": [],
      "metadata": {
        "id": "MBUPeXSBP6LS"
      },
      "execution_count": null,
      "outputs": []
    },
    {
      "cell_type": "code",
      "source": [
        "from math import exp, pi, sqrt\n",
        "sigma = 8.0\n",
        "a = 174.0\n",
        "x1 = 150.0\n",
        "x2 = 198.0\n",
        "fx1 = (1 / (sigma * sqrt(2 * pi))) * (exp((-(x1-a)**2) / (2 * sigma**2)))\n",
        "fx2 = (1 / (sigma * sqrt(2 * pi))) * (exp((-(x2-a)**2) / (2 * sigma**2)))\n",
        "print(abs(fx1 - fx2))"
      ],
      "metadata": {
        "colab": {
          "base_uri": "https://localhost:8080/"
        },
        "id": "CnKlKDCRMH8m",
        "outputId": "833454b2-1da2-4c44-ab62-d1735a98ac09"
      },
      "execution_count": 22,
      "outputs": [
        {
          "output_type": "stream",
          "name": "stdout",
          "text": [
            "0.0\n"
          ]
        }
      ]
    },
    {
      "cell_type": "markdown",
      "source": [
        "5. На сколько сигм (средних квадратичных отклонений) отклоняется рост человека, равный 190 см, от математического ожидания роста в популяции, в которой M(X) = 178 см и D(X) = 25 кв.см?\n",
        "Ответ: на 2,4 сигм"
      ],
      "metadata": {
        "id": "BlFIGkFjRZn0"
      }
    },
    {
      "cell_type": "code",
      "source": [],
      "metadata": {
        "id": "LkPHLyKfRdk6"
      },
      "execution_count": null,
      "outputs": []
    }
  ],
  "metadata": {
    "colab": {
      "name": "Добро пожаловать в Colaboratory!",
      "toc_visible": true,
      "provenance": []
    },
    "kernelspec": {
      "display_name": "Python 3",
      "name": "python3"
    }
  },
  "nbformat": 4,
  "nbformat_minor": 0
}
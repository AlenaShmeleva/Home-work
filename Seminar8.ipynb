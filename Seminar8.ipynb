{
  "cells": [
    {
      "cell_type": "markdown",
      "source": [
        "1) Даны значения величины заработной платы заемщиков банка (zp) и значения их поведенческого кредитного скоринга (ks):\n",
        "zp = [35, 45, 190, 200, 40, 70, 54, 150, 120, 110],\n",
        "\n",
        "ks = [401, 574, 874, 919, 459, 739, 653, 902, 746, 832].\n",
        "\n",
        "Найдите ковариацию этих двух величин с помощью элементарных действий, а затем с помощью функции cov из numpy\n",
        "\n",
        "Полученные значения должны быть равны.\n",
        "\n",
        "Найдите коэффициент корреляции Пирсона с помощью ковариации и среднеквадратичных отклонений двух признаков, а затем с использованием функций из библиотек numpy и pandas."
      ],
      "metadata": {
        "id": "SbCcI6hDsNqb"
      }
    },
    {
      "cell_type": "code",
      "source": [
        "import numpy as np\n",
        "from numpy import cov\n",
        "zp = np.array([35, 45, 190, 200, 40, 70, 54, 150, 120, 110])\n",
        "ks = np.array([401, 574, 874, 919, 459, 739, 653, 902, 746, 832])\n",
        "cov1 = np.mean(zp*ks) - np.mean(zp) * np.mean(ks)\n",
        "print('cov рассчитанное = ', cov1)\n",
        "print(np.cov(zp, ks, ddof = 0))\n",
        "print(np.corrcoef(zp, ks))\n",
        "corrcoef1 = cov1 / np.std(zp, ddof = 0) / np.std(ks, ddof = 0)\n",
        "print('Коэфф. Пирсона = ', corrcoef1)"
      ],
      "metadata": {
        "id": "uNi9RWagsR5y",
        "outputId": "70cc5c82-b345-483e-a454-72e21284ed57",
        "colab": {
          "base_uri": "https://localhost:8080/"
        }
      },
      "execution_count": 4,
      "outputs": [
        {
          "output_type": "stream",
          "name": "stdout",
          "text": [
            "cov рассчитанное =  9157.839999999997\n",
            "[[ 3494.64  9157.84]\n",
            " [ 9157.84 30468.89]]\n",
            "[[1.         0.88749009]\n",
            " [0.88749009 1.        ]]\n",
            "Коэфф. Пирсона =  0.8874900920739158\n"
          ]
        }
      ]
    },
    {
      "cell_type": "markdown",
      "source": [
        "2) Измерены значения IQ выборки студентов,\n",
        "обучающихся в местных технических вузах:\n",
        "\n",
        "131, 125, 115, 122, 131, 115, 107, 99, 125, 111.\n",
        "\n",
        "Известно, что в генеральной совокупности IQ распределен нормально.\n",
        "\n",
        "Найдите доверительный интервал для математического ожидания с надежностью 0.95."
      ],
      "metadata": {
        "id": "T1FMio26salw"
      }
    },
    {
      "cell_type": "code",
      "source": [
        "from math import sqrt\n",
        "from scipy import stats\n",
        "x = np.array([131, 125, 115, 122, 131, 115, 107, 99, 125, 111])\n",
        "M = np.mean(x)\n",
        "sigma = np.std(x, ddof = 1)\n",
        "n = len(x)\n",
        "t = stats.t.ppf(0.975, 9)\n",
        "x1 = M - t * sigma / sqrt(n)\n",
        "x2 = M + t * sigma / sqrt(n)\n",
        "print(\"t = \", t)\n",
        "print(\"M = \", M)\n",
        "print(\"[\",x1, \";\",x2, \"]\")"
      ],
      "metadata": {
        "id": "rzoPHGYGshcm",
        "outputId": "77c44aee-008f-4519-b9d7-9509dd23c40d",
        "colab": {
          "base_uri": "https://localhost:8080/"
        }
      },
      "execution_count": 8,
      "outputs": [
        {
          "output_type": "stream",
          "name": "stdout",
          "text": [
            "t =  2.2621571627409915\n",
            "M =  118.1\n",
            "[ 110.55608365158724 ; 125.64391634841274 ]\n"
          ]
        }
      ]
    },
    {
      "cell_type": "markdown",
      "source": [
        "3) Известно, что рост футболистов в сборной распределен нормально с дисперсией генеральной совокупности, равной 25 кв.см. Объем выборки равен 27, среднее выборочное составляет 174.2. Найдите доверительный интервал для математического ожидания с надежностью 0.95."
      ],
      "metadata": {
        "id": "OYy399MyshtQ"
      }
    },
    {
      "cell_type": "code",
      "source": [
        "sigma2 = 25\n",
        "M = 174.2\n",
        "n = 27\n",
        "Z = 1.96\n",
        "x1 = M - Z * sqrt(sigma2) / sqrt(n)\n",
        "x2 = M + Z * sqrt(sigma2) / sqrt(n)\n",
        "print(\"[\",x1, \";\",x2, \"]\")"
      ],
      "metadata": {
        "id": "_T5fSjPvynpt",
        "outputId": "140f7741-1fe1-468f-d0de-18534f52d7e7",
        "colab": {
          "base_uri": "https://localhost:8080/"
        }
      },
      "execution_count": 9,
      "outputs": [
        {
          "output_type": "stream",
          "name": "stdout",
          "text": [
            "[ 172.31398912064722 ; 176.08601087935276 ]\n"
          ]
        }
      ]
    }
  ],
  "metadata": {
    "colab": {
      "name": "Добро пожаловать в Colaboratory!",
      "toc_visible": true,
      "provenance": []
    },
    "kernelspec": {
      "display_name": "Python 3",
      "name": "python3"
    }
  },
  "nbformat": 4,
  "nbformat_minor": 0
}
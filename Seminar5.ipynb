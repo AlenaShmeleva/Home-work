{
  "cells": [
    {
      "cell_type": "markdown",
      "source": [
        "1. Когда используется критерий Стьюдента, а когда Z –критерий?\n",
        "\n",
        "Ответ: Z-критерий используется в том случае, если известно стандартное отклонение генеральной совокупности. Если оно не известно, то используем критерий Стьюдента.\n",
        "\n"
      ],
      "metadata": {
        "id": "m3BgN3VNQGUc"
      }
    },
    {
      "cell_type": "markdown",
      "source": [
        "2. Проведите тест гипотезы. Утверждается, что шарики для подшипников, изготовленные автоматическим станком, имеют средний диаметр 17 мм.\n",
        "Используя односторонний критерий с α=0,05, проверить эту гипотезу, если в выборке из n=100 шариков средний диаметр\n",
        "оказался равным 17.5 мм, а дисперсия известна и равна 4 кв. мм."
      ],
      "metadata": {
        "id": "T4wFyiU6Qlgn"
      }
    },
    {
      "cell_type": "code",
      "source": [
        "from math import sqrt\n",
        "X = 17.5\n",
        "myu = 17\n",
        "sigma2 = 4\n",
        "n = 100\n",
        "Z = (X - myu)/sqrt(sigma2)/sqrt(n)\n",
        "print(Z)\n",
        "'''Так как Z расчётное меньше Zтабл = 1,65, значит, \n",
        "верна нулевая гипотеза  и нет статистически значимых различий между средним полуенным по выборке и по генеральной совокупности'''"
      ],
      "metadata": {
        "colab": {
          "base_uri": "https://localhost:8080/"
        },
        "id": "i_kPTWpIGi_K",
        "outputId": "e0bcf32a-319f-4ea8-8334-4f1552401787"
      },
      "execution_count": 2,
      "outputs": [
        {
          "output_type": "stream",
          "name": "stdout",
          "text": [
            "0.025\n"
          ]
        }
      ]
    },
    {
      "cell_type": "markdown",
      "source": [
        "3. Проведите тест гипотезы. Продавец утверждает, что средний вес пачки печенья составляет 200 г.\n",
        "\n",
        "Из партии извлечена выборка из 10 пачек. Вес каждой пачки составляет:\n",
        "\n",
        "202, 203, 199, 197, 195, 201, 200, 204, 194, 190.\n",
        "\n",
        "Известно, что их веса распределены нормально.\n",
        "\n",
        "Верно ли утверждение продавца, если учитывать, что доверительная вероятность равна 99%? (Провести двусторонний тест.)"
      ],
      "metadata": {
        "id": "zpmhDqsWQotJ"
      }
    },
    {
      "cell_type": "code",
      "source": [
        "import numpy as np\n",
        "from scipy import stats\n",
        "x = np.array([202, 203, 199, 197, 195, 201, 200, 204, 194, 190])\n",
        "Xcp = np.mean(x)\n",
        "sigma = np.std(x, ddof = 1)\n",
        "n = len(x)\n",
        "myu = 200\n",
        "t = (Xcp - myu)/sigma/sqrt(n)\n",
        "print(\"t = \", t)\n",
        "print(\"Xcp = \", Xcp)\n",
        "print(\"sigma = \", sigma)\n",
        "'''Так как рассчитанный t-критерий меньше табличного (равного 2,821), \n",
        "следовательно, верная нулевая гипотеза = продавец прав'''"
      ],
      "metadata": {
        "colab": {
          "base_uri": "https://localhost:8080/"
        },
        "id": "WIhCT5miQDKi",
        "outputId": "6c285a0f-d5d9-4fed-cb4c-13deff5484ec"
      },
      "execution_count": 5,
      "outputs": [
        {
          "output_type": "stream",
          "name": "stdout",
          "text": [
            "t =  -0.10651074037450894\n",
            "Xcp =  198.5\n",
            "sigma =  4.453463071962462\n"
          ]
        }
      ]
    },
    {
      "cell_type": "markdown",
      "source": [
        "4. Есть ли статистически значимые различия в росте дочерей?\n",
        "\n",
        "Рост матерей 172, 177, 158, 170, 178,175, 164, 160, 169, 165\n",
        "\n",
        "Рост взрослых дочерей: 173, 175, 162, 174, 175, 168, 155, 170, 160, 166"
      ],
      "metadata": {
        "id": "FHiEbx4pQvPQ"
      }
    },
    {
      "cell_type": "code",
      "source": [
        "import numpy as np\n",
        "from scipy import stats\n",
        "x1 = np.array([172, 177, 158, 170, 178,175, 164, 160, 169, 165])\n",
        "x2 = np.array([173, 175, 162, 174, 175, 168, 155, 170, 160, 166])\n",
        "Xcp1 = np.mean(x1)\n",
        "Xcp2 = np.mean(x2)\n",
        "sigma1 = np.std(x1, ddof = 1)\n",
        "sigma2 = np.std(x1, ddof = 1)\n",
        "n = len(x1)\n",
        "t = (Xcp1 - Xcp2)/(sigma1 + sigma2)/sqrt(n)\n",
        "print(\"t = \", t)\n",
        "print(\"Xcp1 = \", Xcp1)\n",
        "print(\"Xcp2 = \", Xcp2)\n",
        "'''Нет статистически значимых различий в росте дочерей и матерей'''"
      ],
      "metadata": {
        "outputId": "b64994d0-2427-4777-9f7f-a419413e8779",
        "colab": {
          "base_uri": "https://localhost:8080/",
          "height": 87
        },
        "id": "OTCHXlWpbD6w"
      },
      "execution_count": 7,
      "outputs": [
        {
          "output_type": "stream",
          "name": "stdout",
          "text": [
            "t =  0.02277962772115451\n",
            "Xcp1 =  168.8\n",
            "Xcp2 =  167.8\n"
          ]
        },
        {
          "output_type": "execute_result",
          "data": {
            "text/plain": [
              "''"
            ],
            "application/vnd.google.colaboratory.intrinsic+json": {
              "type": "string"
            }
          },
          "metadata": {},
          "execution_count": 7
        }
      ]
    }
  ],
  "metadata": {
    "colab": {
      "name": "Добро пожаловать в Colaboratory!",
      "toc_visible": true,
      "provenance": []
    },
    "kernelspec": {
      "display_name": "Python 3",
      "name": "python3"
    }
  },
  "nbformat": 4,
  "nbformat_minor": 0
}